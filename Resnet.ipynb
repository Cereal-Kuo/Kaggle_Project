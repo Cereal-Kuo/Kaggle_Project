{
 "cells": [
  {
   "cell_type": "code",
   "execution_count": 5,
   "id": "eb2e228d",
   "metadata": {},
   "outputs": [],
   "source": [
    "import pandas as pd \n",
    "import numpy as np\n",
    "from sklearn.model_selection import train_test_split\n",
    "from sklearn.preprocessing import LabelEncoder\n",
    "from sklearn.metrics import confusion_matrix, classification_report\n",
    "from sklearn.utils.class_weight import compute_class_weight"
   ]
  },
  {
   "cell_type": "code",
   "execution_count": 6,
   "id": "ce93ec32",
   "metadata": {
    "collapsed": true
   },
   "outputs": [
    {
     "name": "stdout",
     "output_type": "stream",
     "text": [
      "Dropped: 76007 rows\n"
     ]
    }
   ],
   "source": [
    "# Importing the dataset\n",
    "train_df = pd.read_csv('train.csv')\n",
    "test_df = pd.read_csv('test.csv')\n",
    "\n",
    "# Dropped the duplicate\n",
    "train_df.drop(columns=[\"row_id\"], inplace=True)\n",
    "a = train_df.groupby(by=train_df.columns.to_list()).size().values # Use groupby to identify duplicated rows\n",
    "train_df = train_df.drop_duplicates() \n",
    "train_df[\"duplicates\"] = a\n",
    "print(\"Dropped:\", 200000 - len(train_df), \"rows\")\n",
    "y = train_df['target']\n",
    "X = train_df.drop(columns=['target', 'duplicates'])\n",
    "\n",
    "# Label Encoder\n",
    "from sklearn.preprocessing import LabelEncoder\n",
    "encoder = LabelEncoder()\n",
    "y = encoder.fit_transform(y)\n",
    "\n",
    "# Dataset Spliting for training/ testing set\n",
    "from sklearn.model_selection import train_test_split\n",
    "X_train, X_test , y_train , y_test = train_test_split(X, y, test_size = 0.2, random_state = 42)"
   ]
  },
  {
   "cell_type": "markdown",
   "id": "116a9225",
   "metadata": {},
   "source": [
    "### ResNet Building (50)"
   ]
  },
  {
   "cell_type": "code",
   "execution_count": 14,
   "id": "bf51164a",
   "metadata": {},
   "outputs": [],
   "source": [
    "from tensorflow.keras.applications import ResNet50\n",
    "\n",
    "def build_model(preModel=ResNet50, num_classes=10):\n",
    "    pred_model = preModel(include_top=True, weights=None,\n",
    "                          pooling='max', classifier_activation='softmax')\n",
    "    output_layer = Dense(\n",
    "        num_classes, activation=\"softmax\", name=\"output_layer\")\n",
    "\n",
    "    model = tf.keras.Model(\n",
    "        pred_model.inputs, output_layer(pred_model.output))\n",
    "\n",
    "    model.compile(optimizer=tf.keras.optimizers.Adam(),\n",
    "                  loss=tf.keras.losses.CategoricalCrossentropy(), metrics=['accuracy'])\n",
    "\n",
    "    return model"
   ]
  },
  {
   "cell_type": "code",
   "execution_count": 15,
   "id": "f0d4f027",
   "metadata": {},
   "outputs": [
    {
     "ename": "NameError",
     "evalue": "name 'Dense' is not defined",
     "output_type": "error",
     "traceback": [
      "\u001b[1;31m---------------------------------------------------------------------------\u001b[0m",
      "\u001b[1;31mNameError\u001b[0m                                 Traceback (most recent call last)",
      "\u001b[1;32m<ipython-input-15-dd530ff23653>\u001b[0m in \u001b[0;36m<module>\u001b[1;34m\u001b[0m\n\u001b[1;32m----> 1\u001b[1;33m \u001b[0mresNet\u001b[0m \u001b[1;33m=\u001b[0m \u001b[0mbuild_model\u001b[0m\u001b[1;33m(\u001b[0m\u001b[0mpreModel\u001b[0m\u001b[1;33m=\u001b[0m\u001b[0mResNet50\u001b[0m\u001b[1;33m,\u001b[0m \u001b[0mnum_classes\u001b[0m\u001b[1;33m=\u001b[0m\u001b[1;36m10\u001b[0m\u001b[1;33m)\u001b[0m\u001b[1;33m\u001b[0m\u001b[1;33m\u001b[0m\u001b[0m\n\u001b[0m",
      "\u001b[1;32m<ipython-input-14-5ef54c573ecd>\u001b[0m in \u001b[0;36mbuild_model\u001b[1;34m(preModel, num_classes)\u001b[0m\n\u001b[0;32m      4\u001b[0m     pred_model = preModel(include_top=True, weights=None,\n\u001b[0;32m      5\u001b[0m                           pooling='max', classifier_activation='softmax')\n\u001b[1;32m----> 6\u001b[1;33m     output_layer = Dense(\n\u001b[0m\u001b[0;32m      7\u001b[0m         num_classes, activation=\"softmax\", name=\"output_layer\")\n\u001b[0;32m      8\u001b[0m \u001b[1;33m\u001b[0m\u001b[0m\n",
      "\u001b[1;31mNameError\u001b[0m: name 'Dense' is not defined"
     ]
    }
   ],
   "source": [
    "resNet = build_model(preModel=ResNet50, num_classes=10)"
   ]
  }
 ],
 "metadata": {
  "kernelspec": {
   "display_name": "Python 3",
   "language": "python",
   "name": "python3"
  },
  "language_info": {
   "codemirror_mode": {
    "name": "ipython",
    "version": 3
   },
   "file_extension": ".py",
   "mimetype": "text/x-python",
   "name": "python",
   "nbconvert_exporter": "python",
   "pygments_lexer": "ipython3",
   "version": "3.8.10"
  }
 },
 "nbformat": 4,
 "nbformat_minor": 5
}
