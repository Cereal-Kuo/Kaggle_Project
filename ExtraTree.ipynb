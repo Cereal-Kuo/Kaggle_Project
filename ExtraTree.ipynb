{
 "cells": [
  {
   "cell_type": "code",
   "execution_count": 1,
   "id": "1c5c76f8",
   "metadata": {},
   "outputs": [],
   "source": [
    "import numpy as np\n",
    "import pandas as pd\n",
    "\n",
    "from lightgbm import LGBMClassifier\n",
    "from lightgbm import plot_importance\n",
    "from lightgbm import early_stopping\n",
    "from lightgbm import log_evaluation\n",
    "\n",
    "from sklearn.model_selection import StratifiedKFold\n",
    "from sklearn.preprocessing import LabelEncoder\n",
    "from sklearn.metrics import accuracy_score\n",
    "from sklearn.metrics import ConfusionMatrixDisplay, confusion_matrix\n",
    "from sklearn.ensemble import ExtraTreesClassifier"
   ]
  },
  {
   "cell_type": "code",
   "execution_count": 7,
   "id": "2c2df746",
   "metadata": {},
   "outputs": [],
   "source": [
    "# Importing the dataset\n",
    "train_df = pd.read_csv('train.csv')\n",
    "test_df = pd.read_csv('test.csv')\n",
    "test_df.drop(columns=['row_id'])\n",
    "\n",
    "y = train_df['target']\n",
    "\n",
    "X = train_df.drop(columns=['row_id','target'])\n",
    "\n",
    "# Label Encoder\n",
    "from sklearn.preprocessing import LabelEncoder\n",
    "encoder = LabelEncoder()\n",
    "y = encoder.fit_transform(y)\n",
    "\n",
    "# Dataset Spliting for training/ testing set\n",
    "from sklearn.model_selection import train_test_split\n",
    "X_train, X_valid , y_train , y_valid = train_test_split(X, y, test_size = 0.2, random_state = 42)"
   ]
  },
  {
   "cell_type": "code",
   "execution_count": 8,
   "id": "d79b9473",
   "metadata": {},
   "outputs": [],
   "source": [
    "N_SPLITS = 10\n",
    "kf = StratifiedKFold(n_splits=N_SPLITS, shuffle=True, random_state=42)"
   ]
  },
  {
   "cell_type": "code",
   "execution_count": 9,
   "id": "523f9f0c",
   "metadata": {},
   "outputs": [],
   "source": [
    "et_params = {\n",
    "    'n_estimators': 1000,\n",
    "    'n_jobs': -1,\n",
    "    'random_state': 42\n",
    "}"
   ]
  },
  {
   "cell_type": "code",
   "execution_count": 10,
   "id": "7570aa0f",
   "metadata": {},
   "outputs": [],
   "source": [
    "# Number holders for the accuracy\n",
    "pred_validation_all_et = []\n",
    "validation_all = []\n",
    "validation_ids_all = []\n",
    "\n",
    "y_pred_test_et = []\n",
    "y_pred_test_prob_et = []\n",
    "\n",
    "importances_et = []\n",
    "accs_et = []"
   ]
  },
  {
   "cell_type": "code",
   "execution_count": 6,
   "id": "4a70e056",
   "metadata": {
    "collapsed": true
   },
   "outputs": [
    {
     "name": "stdout",
     "output_type": "stream",
     "text": [
      "===== Number of Fold 0 =====\n"
     ]
    },
    {
     "ename": "NameError",
     "evalue": "name 'sample_weights' is not defined",
     "output_type": "error",
     "traceback": [
      "\u001b[1;31m---------------------------------------------------------------------------\u001b[0m",
      "\u001b[1;31mNameError\u001b[0m                                 Traceback (most recent call last)",
      "\u001b[1;32m<timed exec>\u001b[0m in \u001b[0;36m<module>\u001b[1;34m\u001b[0m\n",
      "\u001b[1;31mNameError\u001b[0m: name 'sample_weights' is not defined"
     ]
    }
   ],
   "source": [
    "%%time\n",
    "\n",
    "for fold, (trn_idx, val_idx) in enumerate(kf.split(X=X_train, y = y_train)):\n",
    "    validation_ids_all.append(val_idx)\n",
    "    print(\"===== Number of Fold {} =====\".format(fold))\n",
    "    X_tr = X_train.iloc[trn_idx]\n",
    "    y_tr = y_train[trn_idx]\n",
    "    X_val = X_train.iloc[val_idx]\n",
    "    y_val = y_train[val_idx]\n",
    "    sample_weight_tr = sample_weights.iloc[trn_idx].values\n",
    "    sample_weight_val = sample_weights.iloc[val_idx].values\n",
    "    \n",
    "    model_et = ExtraTreesClassifier(**et_params)\n",
    "    \n",
    "    model_et.fit(X_tr, y_tr, sample_weight_tr)\n",
    "        \n",
    "    importances_et.append(model_et.feature_importances_)\n",
    "    \n",
    "    pred_val_et = model_et.predict(X_val)\n",
    "    pred_validation_all_et.append(pred_val_et)\n",
    "    validation_all.append(y_val)\n",
    "    \n",
    "    acc_et = accuracy_score(y_true = y_val, y_pred = pred_val_et, sample_weight=sample_weight_val)\n",
    "    accs_et.append(acc_et)\n",
    "    \n",
    "    print(\"FOLD\", fold, \"ETC Accuracy:\", acc_et)\n",
    "    \n",
    "    # Test data predictions\n",
    "    y_pred_test_et.append(model_et.predict(X_test))\n",
    "    y_pred_test_prob_et.append(model_et.predict_proba(X_test))\n",
    "    \n",
    "print(\"======================================\")\n",
    "print(\"Mean Accuracy (all folds) - ETC:\", np.mean(accs_et))"
   ]
  },
  {
   "cell_type": "code",
   "execution_count": 25,
   "id": "a7229208",
   "metadata": {},
   "outputs": [],
   "source": [
    "y_pred_et = model_et.predict(X_test)\n",
    "y_pred_et = encoder.inverse_transform(y_pred_et)"
   ]
  },
  {
   "cell_type": "code",
   "execution_count": 28,
   "id": "7b028232",
   "metadata": {},
   "outputs": [],
   "source": [
    "submission = pd.read_csv('sample_submission.csv')\n",
    "submission['target'] = y_pred_et\n",
    "submission.to_csv(\"submission.csv\", index=False)"
   ]
  },
  {
   "cell_type": "markdown",
   "id": "6c26a6eb",
   "metadata": {},
   "source": [
    "## LGBM setup"
   ]
  },
  {
   "cell_type": "code",
   "execution_count": 33,
   "id": "b6059724",
   "metadata": {},
   "outputs": [],
   "source": [
    "lgbm_params = {\n",
    "    'objective' : 'multiclass',\n",
    "    'n_estimators': 300,\n",
    "    'random_state': 42,\n",
    "    'learning_rate': 0.05,\n",
    "    'n_jobs' : -1\n",
    "}"
   ]
  },
  {
   "cell_type": "code",
   "execution_count": 34,
   "id": "3f9de7b4",
   "metadata": {},
   "outputs": [],
   "source": [
    "pred_validation_all_lgbm = []\n",
    "validation_all = []\n",
    "validation_ids_all = []\n",
    "\n",
    "y_pred_test_lgbm = []\n",
    "y_pred_test_prob_lgbm = []\n",
    "\n",
    "importances_lgbm = []\n",
    "accs_lgbm = []"
   ]
  },
  {
   "cell_type": "code",
   "execution_count": 35,
   "id": "2c80a82a",
   "metadata": {
    "collapsed": true
   },
   "outputs": [
    {
     "name": "stdout",
     "output_type": "stream",
     "text": [
      "===== Fold 0  =====\n",
      "Training until validation scores don't improve for 30 rounds\n",
      "[50]\tvalid_0's multi_logloss: 0.35475\tvalid_0's multi_error: 0.0854189\n",
      "[100]\tvalid_0's multi_logloss: 0.227124\tvalid_0's multi_error: 0.0597487\n",
      "[150]\tvalid_0's multi_logloss: 0.174847\tvalid_0's multi_error: 0.0460975\n",
      "[200]\tvalid_0's multi_logloss: 0.144429\tvalid_0's multi_error: 0.0364527\n",
      "[250]\tvalid_0's multi_logloss: 0.126114\tvalid_0's multi_error: 0.0343258\n",
      "[300]\tvalid_0's multi_logloss: 0.113299\tvalid_0's multi_error: 0.0319517\n",
      "Did not meet early stopping. Best iteration is:\n",
      "[300]\tvalid_0's multi_logloss: 0.113299\tvalid_0's multi_error: 0.0319517\n",
      "FOLD 0 LGBM Accuracy: 0.968048273815412\n",
      "===== Fold 1  =====\n",
      "Training until validation scores don't improve for 30 rounds\n",
      "[50]\tvalid_0's multi_logloss: 0.351561\tvalid_0's multi_error: 0.083677\n",
      "[100]\tvalid_0's multi_logloss: 0.226967\tvalid_0's multi_error: 0.0586845\n",
      "[150]\tvalid_0's multi_logloss: 0.178666\tvalid_0's multi_error: 0.0488786\n",
      "[200]\tvalid_0's multi_logloss: 0.150821\tvalid_0's multi_error: 0.0441014\n",
      "[250]\tvalid_0's multi_logloss: 0.133227\tvalid_0's multi_error: 0.0409836\n",
      "[300]\tvalid_0's multi_logloss: 0.121535\tvalid_0's multi_error: 0.0381676\n",
      "Did not meet early stopping. Best iteration is:\n",
      "[300]\tvalid_0's multi_logloss: 0.121535\tvalid_0's multi_error: 0.0381676\n",
      "FOLD 1 LGBM Accuracy: 0.961832444936136\n",
      "===== Fold 2  =====\n",
      "Training until validation scores don't improve for 30 rounds\n",
      "[50]\tvalid_0's multi_logloss: 0.354584\tvalid_0's multi_error: 0.090116\n",
      "[100]\tvalid_0's multi_logloss: 0.231271\tvalid_0's multi_error: 0.0599286\n",
      "[150]\tvalid_0's multi_logloss: 0.180289\tvalid_0's multi_error: 0.0475364\n",
      "[200]\tvalid_0's multi_logloss: 0.150574\tvalid_0's multi_error: 0.0410429\n",
      "[250]\tvalid_0's multi_logloss: 0.131622\tvalid_0's multi_error: 0.037474\n",
      "[300]\tvalid_0's multi_logloss: 0.118553\tvalid_0's multi_error: 0.0348964\n",
      "Did not meet early stopping. Best iteration is:\n",
      "[300]\tvalid_0's multi_logloss: 0.118553\tvalid_0's multi_error: 0.0348964\n",
      "FOLD 2 LGBM Accuracy: 0.965103598691385\n",
      "===== Fold 3  =====\n",
      "Training until validation scores don't improve for 30 rounds\n",
      "[50]\tvalid_0's multi_logloss: 0.354577\tvalid_0's multi_error: 0.0794326\n",
      "[100]\tvalid_0's multi_logloss: 0.224788\tvalid_0's multi_error: 0.0518237\n",
      "[150]\tvalid_0's multi_logloss: 0.171247\tvalid_0's multi_error: 0.0396657\n",
      "[200]\tvalid_0's multi_logloss: 0.141059\tvalid_0's multi_error: 0.0355117\n",
      "[250]\tvalid_0's multi_logloss: 0.121661\tvalid_0's multi_error: 0.0318136\n",
      "[300]\tvalid_0's multi_logloss: 0.108109\tvalid_0's multi_error: 0.0302432\n",
      "Did not meet early stopping. Best iteration is:\n",
      "[300]\tvalid_0's multi_logloss: 0.108109\tvalid_0's multi_error: 0.0302432\n",
      "FOLD 3 LGBM Accuracy: 0.9697568389057751\n",
      "===== Fold 4  =====\n",
      "Training until validation scores don't improve for 30 rounds\n",
      "[50]\tvalid_0's multi_logloss: 0.353344\tvalid_0's multi_error: 0.0809436\n",
      "[100]\tvalid_0's multi_logloss: 0.226616\tvalid_0's multi_error: 0.0530148\n",
      "[150]\tvalid_0's multi_logloss: 0.17417\tvalid_0's multi_error: 0.042342\n",
      "[200]\tvalid_0's multi_logloss: 0.145089\tvalid_0's multi_error: 0.0383023\n",
      "[250]\tvalid_0's multi_logloss: 0.127012\tvalid_0's multi_error: 0.0355095\n",
      "[300]\tvalid_0's multi_logloss: 0.114459\tvalid_0's multi_error: 0.0326667\n",
      "Did not meet early stopping. Best iteration is:\n",
      "[300]\tvalid_0's multi_logloss: 0.114459\tvalid_0's multi_error: 0.0326667\n",
      "FOLD 4 LGBM Accuracy: 0.9673333000847838\n",
      "===== Fold 5  =====\n",
      "Training until validation scores don't improve for 30 rounds\n",
      "[50]\tvalid_0's multi_logloss: 0.340913\tvalid_0's multi_error: 0.076133\n",
      "[100]\tvalid_0's multi_logloss: 0.213965\tvalid_0's multi_error: 0.0536471\n",
      "[150]\tvalid_0's multi_logloss: 0.162936\tvalid_0's multi_error: 0.0421299\n",
      "[200]\tvalid_0's multi_logloss: 0.134808\tvalid_0's multi_error: 0.0360473\n",
      "[250]\tvalid_0's multi_logloss: 0.117253\tvalid_0's multi_error: 0.0342524\n",
      "[300]\tvalid_0's multi_logloss: 0.105103\tvalid_0's multi_error: 0.0323079\n",
      "Did not meet early stopping. Best iteration is:\n",
      "[300]\tvalid_0's multi_logloss: 0.105103\tvalid_0's multi_error: 0.0323079\n",
      "FOLD 5 LGBM Accuracy: 0.9676920775789002\n",
      "===== Fold 6  =====\n",
      "Training until validation scores don't improve for 30 rounds\n",
      "[50]\tvalid_0's multi_logloss: 0.34862\tvalid_0's multi_error: 0.0830685\n",
      "[100]\tvalid_0's multi_logloss: 0.223606\tvalid_0's multi_error: 0.0546177\n",
      "[150]\tvalid_0's multi_logloss: 0.171999\tvalid_0's multi_error: 0.0428004\n",
      "[200]\tvalid_0's multi_logloss: 0.143047\tvalid_0's multi_error: 0.0363456\n",
      "[250]\tvalid_0's multi_logloss: 0.124821\tvalid_0's multi_error: 0.0340119\n",
      "[300]\tvalid_0's multi_logloss: 0.112499\tvalid_0's multi_error: 0.03143\n",
      "Did not meet early stopping. Best iteration is:\n",
      "[300]\tvalid_0's multi_logloss: 0.112499\tvalid_0's multi_error: 0.03143\n",
      "FOLD 6 LGBM Accuracy: 0.9685700099304866\n",
      "===== Fold 7  =====\n",
      "Training until validation scores don't improve for 30 rounds\n",
      "[50]\tvalid_0's multi_logloss: 0.343771\tvalid_0's multi_error: 0.0812017\n",
      "[100]\tvalid_0's multi_logloss: 0.218489\tvalid_0's multi_error: 0.0550707\n",
      "[150]\tvalid_0's multi_logloss: 0.167288\tvalid_0's multi_error: 0.0445381\n",
      "[200]\tvalid_0's multi_logloss: 0.138688\tvalid_0's multi_error: 0.0373658\n",
      "[250]\tvalid_0's multi_logloss: 0.120514\tvalid_0's multi_error: 0.035159\n",
      "[300]\tvalid_0's multi_logloss: 0.108259\tvalid_0's multi_error: 0.0330023\n",
      "Did not meet early stopping. Best iteration is:\n",
      "[300]\tvalid_0's multi_logloss: 0.108259\tvalid_0's multi_error: 0.0330023\n",
      "FOLD 7 LGBM Accuracy: 0.9669976928478282\n",
      "===== Fold 8  =====\n",
      "Training until validation scores don't improve for 30 rounds\n",
      "[50]\tvalid_0's multi_logloss: 0.35274\tvalid_0's multi_error: 0.0848259\n",
      "[100]\tvalid_0's multi_logloss: 0.22561\tvalid_0's multi_error: 0.0555444\n",
      "[150]\tvalid_0's multi_logloss: 0.174289\tvalid_0's multi_error: 0.0450292\n",
      "[200]\tvalid_0's multi_logloss: 0.145666\tvalid_0's multi_error: 0.0384383\n",
      "[250]\tvalid_0's multi_logloss: 0.126944\tvalid_0's multi_error: 0.0363252\n",
      "[300]\tvalid_0's multi_logloss: 0.114337\tvalid_0's multi_error: 0.0340109\n",
      "Did not meet early stopping. Best iteration is:\n",
      "[300]\tvalid_0's multi_logloss: 0.114337\tvalid_0's multi_error: 0.0340109\n",
      "FOLD 8 LGBM Accuracy: 0.965989132622258\n",
      "===== Fold 9  =====\n",
      "Training until validation scores don't improve for 30 rounds\n",
      "[50]\tvalid_0's multi_logloss: 0.331268\tvalid_0's multi_error: 0.0779618\n",
      "[100]\tvalid_0's multi_logloss: 0.209448\tvalid_0's multi_error: 0.049498\n",
      "[150]\tvalid_0's multi_logloss: 0.159349\tvalid_0's multi_error: 0.0370984\n",
      "[200]\tvalid_0's multi_logloss: 0.131476\tvalid_0's multi_error: 0.0326807\n",
      "Early stopping, best iteration is:\n",
      "[205]\tvalid_0's multi_logloss: 0.129492\tvalid_0's multi_error: 0.0321787\n",
      "FOLD 9 LGBM Accuracy: 0.9678212851405622\n",
      "======================================\n",
      "Mean Accuracy - LGBM: 0.9669144654553528\n",
      "Wall time: 56min 59s\n"
     ]
    }
   ],
   "source": [
    "%%time\n",
    "for fold, (trn_idx, val_idx) in enumerate(kf.split(X=X_train, y = y_train)):\n",
    "    validation_ids_all.append(val_idx)\n",
    "    print(\"===== Fold\", fold,\" =====\")\n",
    "    X_tr = X_train.iloc[trn_idx]\n",
    "    y_tr = y_train[trn_idx]\n",
    "    X_val = X_train.iloc[val_idx]\n",
    "    y_val = y_train[val_idx]\n",
    "    sample_weight_tr = sample_weights.iloc[trn_idx].values\n",
    "    sample_weight_val = sample_weights.iloc[val_idx].values\n",
    "    \n",
    "    model_lgbm = LGBMClassifier(**lgbm_params)\n",
    "    \n",
    "    model_lgbm.fit(\n",
    "        X_tr, \n",
    "        y_tr,\n",
    "        sample_weight = sample_weight_tr,\n",
    "        eval_sample_weight = [sample_weight_val],\n",
    "        eval_set=[(X_val, y_val)],\n",
    "        eval_metric = ['multi_logloss', 'multi_error'],\n",
    "        callbacks = [early_stopping(30), log_evaluation(period=50)]\n",
    "    )\n",
    "    \n",
    "    importances_lgbm.append(model_lgbm.feature_importances_)\n",
    "    \n",
    "    pred_val_lgbm = model_lgbm.predict(X_val)\n",
    "    \n",
    "    pred_validation_all_lgbm.append(pred_val_lgbm)\n",
    "    validation_all.append(y_val)\n",
    "    \n",
    "    acc_lgbm = accuracy_score(y_true = y_val, y_pred = pred_val_lgbm, sample_weight=sample_weight_val)\n",
    "    accs_lgbm.append(acc_lgbm)\n",
    "    \n",
    "    print(\"FOLD\", fold, \"LGBM Accuracy:\", acc_lgbm)\n",
    "\n",
    "    # Test data predictions\n",
    "    y_pred_test_lgbm.append(model_lgbm.predict(X_test))\n",
    "    y_pred_test_prob_lgbm.append(model_lgbm.predict_proba(X_test))\n",
    "    \n",
    "print(\"======================================\")\n",
    "print(\"Mean Accuracy - LGBM:\", np.mean(accs_lgbm))"
   ]
  },
  {
   "cell_type": "code",
   "execution_count": 36,
   "id": "2102d43a",
   "metadata": {},
   "outputs": [],
   "source": [
    "y_pred_lgbm = model_et.predict(X_test)\n",
    "y_pred_lgbm = encoder.inverse_transform(y_pred_lgbm)"
   ]
  },
  {
   "cell_type": "code",
   "execution_count": 37,
   "id": "44801a6c",
   "metadata": {},
   "outputs": [],
   "source": [
    "submission = pd.read_csv('sample_submission.csv')\n",
    "submission['target'] = y_pred_lgbm\n",
    "submission.to_csv(\"submission.csv\", index=False)"
   ]
  }
 ],
 "metadata": {
  "kernelspec": {
   "display_name": "Python 3",
   "language": "python",
   "name": "python3"
  },
  "language_info": {
   "codemirror_mode": {
    "name": "ipython",
    "version": 3
   },
   "file_extension": ".py",
   "mimetype": "text/x-python",
   "name": "python",
   "nbconvert_exporter": "python",
   "pygments_lexer": "ipython3",
   "version": "3.8.10"
  }
 },
 "nbformat": 4,
 "nbformat_minor": 5
}
