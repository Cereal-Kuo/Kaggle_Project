{
 "cells": [
  {
   "cell_type": "code",
   "execution_count": 1,
   "id": "78529a7f",
   "metadata": {},
   "outputs": [],
   "source": [
    "import numpy as np\n",
    "import pandas as pd\n",
    "import warnings\n",
    "warnings.filterwarnings(\"ignore\")"
   ]
  },
  {
   "cell_type": "markdown",
   "id": "47ba4cf9",
   "metadata": {},
   "source": [
    "### 1. Datat Loading"
   ]
  },
  {
   "cell_type": "markdown",
   "id": "5784304f",
   "metadata": {},
   "source": [
    "1.1 Data Loading"
   ]
  },
  {
   "cell_type": "code",
   "execution_count": 2,
   "id": "6c2a3179",
   "metadata": {},
   "outputs": [],
   "source": [
    "# Importing the dataset\n",
    "train_df = pd.read_csv('train.csv', index_col='row_id')\n",
    "test_df = pd.read_csv('test.csv', index_col='row_id')"
   ]
  }
 ],
 "metadata": {
  "kernelspec": {
   "display_name": "Python 3",
   "language": "python",
   "name": "python3"
  },
  "language_info": {
   "codemirror_mode": {
    "name": "ipython",
    "version": 3
   },
   "file_extension": ".py",
   "mimetype": "text/x-python",
   "name": "python",
   "nbconvert_exporter": "python",
   "pygments_lexer": "ipython3",
   "version": "3.8.10"
  }
 },
 "nbformat": 4,
 "nbformat_minor": 5
}
