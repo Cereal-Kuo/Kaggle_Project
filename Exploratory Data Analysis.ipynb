{
 "cells": [
  {
   "cell_type": "code",
   "execution_count": 1,
   "id": "de102801",
   "metadata": {},
   "outputs": [],
   "source": [
    "import numpy as np \n",
    "import pandas as pd \n",
    "\n",
    "# PLOT\n",
    "import matplotlib.pyplot as plt\n",
    "from matplotlib.colors import ListedColormap\n",
    "import seaborn as sns\n",
    "%matplotlib inline"
   ]
  },
  {
   "cell_type": "markdown",
   "id": "9943f4c6",
   "metadata": {},
   "source": [
    "### Importing dataset"
   ]
  },
  {
   "cell_type": "code",
   "execution_count": 3,
   "id": "ccdf50e1",
   "metadata": {},
   "outputs": [],
   "source": [
    "# Importing the dataset\n",
    "train_df = pd.read_csv('train.csv')\n",
    "test_df = pd.read_csv('test.csv')\n",
    "\n",
    "# Dropped the duplicate\n",
    "train_df.drop(columns=[\"row_id\"], inplace=True)\n",
    "y = train_df['target']\n",
    "X = train_df.drop(columns=['target'])\n",
    "\n",
    "# Label Encoder\n",
    "from sklearn.preprocessing import LabelEncoder\n",
    "encoder = LabelEncoder()\n",
    "y = encoder.fit_transform(y)\n",
    "\n",
    "# Dataset Spliting for training/ testing set\n",
    "from sklearn.model_selection import train_test_split\n",
    "X_train, X_valid , y_train , y_valid = train_test_split(X, y, test_size = 0.2, random_state = 42)"
   ]
  },
  {
   "cell_type": "code",
   "execution_count": 5,
   "id": "37753fce",
   "metadata": {
    "collapsed": true
   },
   "outputs": [
    {
     "data": {
      "text/html": [
       "<div>\n",
       "<style scoped>\n",
       "    .dataframe tbody tr th:only-of-type {\n",
       "        vertical-align: middle;\n",
       "    }\n",
       "\n",
       "    .dataframe tbody tr th {\n",
       "        vertical-align: top;\n",
       "    }\n",
       "\n",
       "    .dataframe thead th {\n",
       "        text-align: right;\n",
       "    }\n",
       "</style>\n",
       "<table border=\"1\" class=\"dataframe\">\n",
       "  <thead>\n",
       "    <tr style=\"text-align: right;\">\n",
       "      <th></th>\n",
       "      <th>feature</th>\n",
       "      <th>dtype</th>\n",
       "      <th>nan</th>\n",
       "      <th>count</th>\n",
       "      <th>nunique</th>\n",
       "      <th>unique</th>\n",
       "    </tr>\n",
       "  </thead>\n",
       "  <tbody>\n",
       "    <tr>\n",
       "      <th>0</th>\n",
       "      <td>A0T0G0C10</td>\n",
       "      <td>float64</td>\n",
       "      <td>0</td>\n",
       "      <td>200000</td>\n",
       "      <td>18</td>\n",
       "      <td>[-9.5367431640625e-07, 4.632568359374996e-08, ...</td>\n",
       "    </tr>\n",
       "    <tr>\n",
       "      <th>1</th>\n",
       "      <td>A0T0G1C9</td>\n",
       "      <td>float64</td>\n",
       "      <td>0</td>\n",
       "      <td>200000</td>\n",
       "      <td>23</td>\n",
       "      <td>[-9.5367431640625e-06, -1.5367431640625004e-06...</td>\n",
       "    </tr>\n",
       "    <tr>\n",
       "      <th>2</th>\n",
       "      <td>A0T0G2C8</td>\n",
       "      <td>float64</td>\n",
       "      <td>0</td>\n",
       "      <td>200000</td>\n",
       "      <td>139</td>\n",
       "      <td>[-4.291534423828125e-05, 7.084655761718752e-06...</td>\n",
       "    </tr>\n",
       "    <tr>\n",
       "      <th>3</th>\n",
       "      <td>A0T0G3C7</td>\n",
       "      <td>float64</td>\n",
       "      <td>0</td>\n",
       "      <td>200000</td>\n",
       "      <td>683</td>\n",
       "      <td>[-0.0001144409179687, 0.0008855590820312, 0.00...</td>\n",
       "    </tr>\n",
       "    <tr>\n",
       "      <th>4</th>\n",
       "      <td>A0T0G4C6</td>\n",
       "      <td>float64</td>\n",
       "      <td>0</td>\n",
       "      <td>200000</td>\n",
       "      <td>1279</td>\n",
       "      <td>[-0.0002002716064453, 0.0002677283935546, 0.00...</td>\n",
       "    </tr>\n",
       "    <tr>\n",
       "      <th>...</th>\n",
       "      <td>...</td>\n",
       "      <td>...</td>\n",
       "      <td>...</td>\n",
       "      <td>...</td>\n",
       "      <td>...</td>\n",
       "      <td>...</td>\n",
       "    </tr>\n",
       "    <tr>\n",
       "      <th>282</th>\n",
       "      <td>A9T0G0C1</td>\n",
       "      <td>float64</td>\n",
       "      <td>0</td>\n",
       "      <td>200000</td>\n",
       "      <td>354</td>\n",
       "      <td>[-9.5367431640625e-06, 1.0463256835937502e-05,...</td>\n",
       "    </tr>\n",
       "    <tr>\n",
       "      <th>283</th>\n",
       "      <td>A9T0G1C0</td>\n",
       "      <td>float64</td>\n",
       "      <td>0</td>\n",
       "      <td>200000</td>\n",
       "      <td>509</td>\n",
       "      <td>[-9.5367431640625e-06, 8.4632568359375e-06, 1....</td>\n",
       "    </tr>\n",
       "    <tr>\n",
       "      <th>284</th>\n",
       "      <td>A9T1G0C0</td>\n",
       "      <td>float64</td>\n",
       "      <td>0</td>\n",
       "      <td>200000</td>\n",
       "      <td>515</td>\n",
       "      <td>[-9.5367431640625e-06, 1.94632568359375e-05, 4...</td>\n",
       "    </tr>\n",
       "    <tr>\n",
       "      <th>285</th>\n",
       "      <td>A10T0G0C0</td>\n",
       "      <td>float64</td>\n",
       "      <td>0</td>\n",
       "      <td>200000</td>\n",
       "      <td>22</td>\n",
       "      <td>[-9.5367431640625e-07, 1.04632568359375e-06, 6...</td>\n",
       "    </tr>\n",
       "    <tr>\n",
       "      <th>286</th>\n",
       "      <td>target</td>\n",
       "      <td>object</td>\n",
       "      <td>0</td>\n",
       "      <td>200000</td>\n",
       "      <td>10</td>\n",
       "      <td>[Streptococcus_pyogenes, Salmonella_enterica, ...</td>\n",
       "    </tr>\n",
       "  </tbody>\n",
       "</table>\n",
       "<p>287 rows × 6 columns</p>\n",
       "</div>"
      ],
      "text/plain": [
       "       feature    dtype  nan   count  nunique  \\\n",
       "0    A0T0G0C10  float64    0  200000       18   \n",
       "1     A0T0G1C9  float64    0  200000       23   \n",
       "2     A0T0G2C8  float64    0  200000      139   \n",
       "3     A0T0G3C7  float64    0  200000      683   \n",
       "4     A0T0G4C6  float64    0  200000     1279   \n",
       "..         ...      ...  ...     ...      ...   \n",
       "282   A9T0G0C1  float64    0  200000      354   \n",
       "283   A9T0G1C0  float64    0  200000      509   \n",
       "284   A9T1G0C0  float64    0  200000      515   \n",
       "285  A10T0G0C0  float64    0  200000       22   \n",
       "286     target   object    0  200000       10   \n",
       "\n",
       "                                                unique  \n",
       "0    [-9.5367431640625e-07, 4.632568359374996e-08, ...  \n",
       "1    [-9.5367431640625e-06, -1.5367431640625004e-06...  \n",
       "2    [-4.291534423828125e-05, 7.084655761718752e-06...  \n",
       "3    [-0.0001144409179687, 0.0008855590820312, 0.00...  \n",
       "4    [-0.0002002716064453, 0.0002677283935546, 0.00...  \n",
       "..                                                 ...  \n",
       "282  [-9.5367431640625e-06, 1.0463256835937502e-05,...  \n",
       "283  [-9.5367431640625e-06, 8.4632568359375e-06, 1....  \n",
       "284  [-9.5367431640625e-06, 1.94632568359375e-05, 4...  \n",
       "285  [-9.5367431640625e-07, 1.04632568359375e-06, 6...  \n",
       "286  [Streptococcus_pyogenes, Salmonella_enterica, ...  \n",
       "\n",
       "[287 rows x 6 columns]"
      ]
     },
     "execution_count": 5,
     "metadata": {},
     "output_type": "execute_result"
    }
   ],
   "source": [
    "def check(df):\n",
    "    col_list = df.columns.values\n",
    "    rows = []\n",
    "    for col in col_list:\n",
    "        tmp = (col,\n",
    "              df[col].dtype,\n",
    "              df[col].isnull().sum(),\n",
    "              df[col].count(),\n",
    "              df[col].nunique(),\n",
    "              df[col].unique())\n",
    "        rows.append(tmp)\n",
    "    df = pd.DataFrame(rows) \n",
    "    df.columns = ['feature','dtype','nan','count','nunique','unique']\n",
    "    return df\n",
    "\n",
    "check(train_df)"
   ]
  },
  {
   "cell_type": "code",
   "execution_count": 9,
   "id": "5b29b0b6",
   "metadata": {},
   "outputs": [],
   "source": [
    "feature = [col for col in train_df.columns if col not in ['row_id', 'target']]"
   ]
  },
  {
   "cell_type": "code",
   "execution_count": 10,
   "id": "57c88640",
   "metadata": {},
   "outputs": [],
   "source": [
    "for col in feature:\n",
    "    train_df[col] = train_df[col].astype(\"float32\")\n",
    "    test_df[col] = test_df[col].astype(\"float32\")"
   ]
  },
  {
   "cell_type": "code",
   "execution_count": 11,
   "id": "eb57d996",
   "metadata": {},
   "outputs": [
    {
     "name": "stdout",
     "output_type": "stream",
     "text": [
      "['A1T1G1C7', 'A1T1G2C6', 'A1T1G3C5', 'A1T1G4C4', 'A1T1G5C3', 'A1T1G6C2', 'A1T1G7C1', 'A1T1G8C0'] [77, 78, 79, 80, 81, 82, 83, 84] 8\n"
     ]
    }
   ],
   "source": [
    "n = len(feature)\n",
    "fb = []\n",
    "r = []\n",
    "for i in range(n):\n",
    "    a = feature[i]\n",
    "    if a[0] == 'A' and a[1] == '1' and a[2] == 'T' and a[3] == '1'  and a[4] == 'G' and int(a[5]) > 0:\n",
    "        fb.append(a)\n",
    "        r.append(i)\n",
    "        \n",
    "print(fb,r, len(r))"
   ]
  },
  {
   "cell_type": "code",
   "execution_count": 6,
   "id": "1cead347",
   "metadata": {},
   "outputs": [
    {
     "ename": "NameError",
     "evalue": "name 'f' is not defined",
     "output_type": "error",
     "traceback": [
      "\u001b[1;31m---------------------------------------------------------------------------\u001b[0m",
      "\u001b[1;31mNameError\u001b[0m                                 Traceback (most recent call last)",
      "\u001b[1;32m<ipython-input-6-17475729c172>\u001b[0m in \u001b[0;36m<module>\u001b[1;34m\u001b[0m\n\u001b[0;32m      1\u001b[0m \u001b[0mfig\u001b[0m\u001b[1;33m,\u001b[0m \u001b[0maxs\u001b[0m \u001b[1;33m=\u001b[0m \u001b[0mplt\u001b[0m\u001b[1;33m.\u001b[0m\u001b[0msubplots\u001b[0m\u001b[1;33m(\u001b[0m\u001b[1;36m5\u001b[0m\u001b[1;33m,\u001b[0m \u001b[1;36m3\u001b[0m\u001b[1;33m,\u001b[0m \u001b[0mfigsize\u001b[0m\u001b[1;33m=\u001b[0m\u001b[1;33m(\u001b[0m\u001b[1;36m17\u001b[0m\u001b[1;33m,\u001b[0m\u001b[1;36m20\u001b[0m\u001b[1;33m)\u001b[0m\u001b[1;33m)\u001b[0m\u001b[1;33m\u001b[0m\u001b[1;33m\u001b[0m\u001b[0m\n\u001b[0;32m      2\u001b[0m \u001b[0mi\u001b[0m \u001b[1;33m=\u001b[0m \u001b[1;36m0\u001b[0m\u001b[1;33m\u001b[0m\u001b[1;33m\u001b[0m\u001b[0m\n\u001b[1;32m----> 3\u001b[1;33m \u001b[1;32mfor\u001b[0m \u001b[0mf\u001b[0m \u001b[1;32min\u001b[0m \u001b[0mf\u001b[0m\u001b[1;33m:\u001b[0m\u001b[1;33m\u001b[0m\u001b[1;33m\u001b[0m\u001b[0m\n\u001b[0m\u001b[0;32m      4\u001b[0m     \u001b[0mcurrent_ax\u001b[0m \u001b[1;33m=\u001b[0m \u001b[0maxs\u001b[0m\u001b[1;33m.\u001b[0m\u001b[0mflat\u001b[0m\u001b[1;33m[\u001b[0m\u001b[0mi\u001b[0m\u001b[1;33m]\u001b[0m\u001b[1;33m\u001b[0m\u001b[1;33m\u001b[0m\u001b[0m\n\u001b[0;32m      5\u001b[0m     \u001b[0mcurrent_ax\u001b[0m\u001b[1;33m.\u001b[0m\u001b[0mhist\u001b[0m\u001b[1;33m(\u001b[0m\u001b[0mtrain_df\u001b[0m\u001b[1;33m[\u001b[0m\u001b[0mf\u001b[0m\u001b[1;33m]\u001b[0m\u001b[1;33m,\u001b[0m \u001b[0mbins\u001b[0m\u001b[1;33m=\u001b[0m\u001b[1;36m100\u001b[0m\u001b[1;33m)\u001b[0m\u001b[1;33m\u001b[0m\u001b[1;33m\u001b[0m\u001b[0m\n",
      "\u001b[1;31mNameError\u001b[0m: name 'f' is not defined"
     ]
    },
    {
     "data": {
      "image/png": "[encoded data removed]",
      "text/plain": [
       "<Figure size 1224x1440 with 15 Axes>"
      ]
     },
     "metadata": {
      "needs_background": "light"
     },
     "output_type": "display_data"
    }
   ],
   "source": [
    "fig, axs = plt.subplots(5, 3, figsize=(17,20))\n",
    "i = 0\n",
    "for f in f:\n",
    "    current_ax = axs.flat[i]\n",
    "    current_ax.hist(train_df[f], bins=100)\n",
    "    current_ax.set_title(f)\n",
    "    current_ax.grid()\n",
    "    i = i + 1"
   ]
  }
 ],
 "metadata": {
  "kernelspec": {
   "display_name": "Python 3",
   "language": "python",
   "name": "python3"
  },
  "language_info": {
   "codemirror_mode": {
    "name": "ipython",
    "version": 3
   },
   "file_extension": ".py",
   "mimetype": "text/x-python",
   "name": "python",
   "nbconvert_exporter": "python",
   "pygments_lexer": "ipython3",
   "version": "3.8.10"
  }
 },
 "nbformat": 4,
 "nbformat_minor": 5
}
